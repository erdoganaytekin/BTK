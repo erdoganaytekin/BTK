{
 "cells": [
  {
   "cell_type": "markdown",
   "id": "3e09c20e",
   "metadata": {},
   "source": [
    "# 4_Exercises about Error Handling"
   ]
  },
  {
   "cell_type": "code",
   "execution_count": 1,
   "id": "46a3189c",
   "metadata": {},
   "outputs": [],
   "source": [
    "listt = [\"3\",\"8\",\"5a\",\"10d\",\"abcdef\",\"100\",\"500\"]"
   ]
  },
  {
   "cell_type": "code",
   "execution_count": 2,
   "id": "9b893a57",
   "metadata": {},
   "outputs": [
    {
     "name": "stdout",
     "output_type": "stream",
     "text": [
      "3\n",
      "8\n",
      "100\n",
      "500\n"
     ]
    }
   ],
   "source": [
    "# 1: In Listt fin numerical values.\n",
    "\n",
    "for x in listt:\n",
    "    try:\n",
    "        result = int(x)\n",
    "        print(result)\n",
    "    except ValueError:\n",
    "        continue"
   ]
  },
  {
   "cell_type": "code",
   "execution_count": 3,
   "id": "fa9241b8",
   "metadata": {},
   "outputs": [
    {
     "name": "stdout",
     "output_type": "stream",
     "text": [
      "number: 10a\n",
      "invalid number\n",
      "number: -23\n",
      "input number:  -23.0\n",
      "number: [';/4\n",
      "invalid number\n",
      "number: q\n"
     ]
    }
   ],
   "source": [
    "# 2: in case input \"q\" stop or write an error mesage until \"q\", input should be numerical.\n",
    "\n",
    "while True:\n",
    "    number = input('number: ')\n",
    "    if number == 'q':\n",
    "        break\n",
    "\n",
    "    try:\n",
    "        result = float(number)\n",
    "        print('input number: ', result)\n",
    "#         break\n",
    "    except ValueError:\n",
    "        print('invalid number')\n",
    "        continue"
   ]
  },
  {
   "cell_type": "code",
   "execution_count": 4,
   "id": "f0e07bec",
   "metadata": {},
   "outputs": [
    {
     "name": "stdout",
     "output_type": "stream",
     "text": [
      "password: eddy\n",
      "valid password\n"
     ]
    }
   ],
   "source": [
    "# 3: Give an error when input has turkish characters.\n",
    "\n",
    "def checkPassword(password):\n",
    "    turkish_characters = 'şçğüöıİ'\n",
    "\n",
    "    for i in password:\n",
    "        if i in turkish_characters:\n",
    "            raise TypeError('Password can not contain turkish characters.')\n",
    "        else:\n",
    "            pass\n",
    "    print('valid password')    \n",
    "\n",
    "password = input('password: ')\n",
    "\n",
    "try:\n",
    "    checkPassword(password)    \n",
    "except TypeError as err:\n",
    "    print(err)"
   ]
  },
  {
   "cell_type": "code",
   "execution_count": 5,
   "id": "e9217090",
   "metadata": {},
   "outputs": [
    {
     "name": "stdout",
     "output_type": "stream",
     "text": [
      "24\n",
      "5040\n",
      "87178291200\n",
      "Negative value\n",
      "invalid literal for int() with base 10: '20b'\n",
      "invalid literal for int() with base 10: \".'/.,'\"\n",
      "Negative value\n"
     ]
    }
   ],
   "source": [
    "# 4: Create a factorial function and give an error for every wrong thing entered.\n",
    "\n",
    "def faktoriyel(x):\n",
    "    x = int(x)\n",
    "\n",
    "    if x < 0:\n",
    "        raise ValueError(\"Negative value\")\n",
    "\n",
    "    result = 1\n",
    "\n",
    "    for i in range(1, x+1):\n",
    "        result *= i\n",
    "\n",
    "    return result\n",
    "\n",
    "for x in [4, 7, 14, -9, \"20b\", \".'/.,'\", -5]:\n",
    "    try:\n",
    "        y = faktoriyel(x)\n",
    "    except ValueError as err:\n",
    "        print(err)\n",
    "        continue \n",
    "    print(y)"
   ]
  }
 ],
 "metadata": {
  "kernelspec": {
   "display_name": "Python 3 (ipykernel)",
   "language": "python",
   "name": "python3"
  },
  "language_info": {
   "codemirror_mode": {
    "name": "ipython",
    "version": 3
   },
   "file_extension": ".py",
   "mimetype": "text/x-python",
   "name": "python",
   "nbconvert_exporter": "python",
   "pygments_lexer": "ipython3",
   "version": "3.9.12"
  }
 },
 "nbformat": 4,
 "nbformat_minor": 5
}
