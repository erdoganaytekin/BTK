{
 "cells": [
  {
   "cell_type": "markdown",
   "id": "28ae1ee9",
   "metadata": {},
   "source": [
    "# Training"
   ]
  },
  {
   "cell_type": "code",
   "execution_count": 1,
   "id": "fd82152c",
   "metadata": {},
   "outputs": [
    {
     "name": "stdout",
     "output_type": "stream",
     "text": [
      "local x\n",
      "global x\n"
     ]
    }
   ],
   "source": [
    "# global scope\n",
    "x = \"global x\"\n",
    "\n",
    "def function():\n",
    "#     local scope\n",
    "    x = \"local x\"\n",
    "    print(x)\n",
    "    \n",
    "function()\n",
    "print(x)"
   ]
  },
  {
   "cell_type": "code",
   "execution_count": 2,
   "id": "ec135170",
   "metadata": {},
   "outputs": [
    {
     "name": "stdout",
     "output_type": "stream",
     "text": [
      "global x\n",
      "global x\n"
     ]
    }
   ],
   "source": [
    "# global scope\n",
    "x = \"global x\"\n",
    "\n",
    "def function():\n",
    "#     local scope\n",
    "\n",
    "    print(x)\n",
    "    \n",
    "function()\n",
    "print(x)"
   ]
  },
  {
   "cell_type": "code",
   "execution_count": 3,
   "id": "5ffd5967",
   "metadata": {},
   "outputs": [
    {
     "name": "stdout",
     "output_type": "stream",
     "text": [
      "Volkan\n",
      "Erdem\n"
     ]
    }
   ],
   "source": [
    "name = \"Erdem\"\n",
    "\n",
    "def changename(new_name):\n",
    "    name = new_name\n",
    "    print(name)\n",
    "    \n",
    "changename(\"Volkan\")\n",
    "print(name)"
   ]
  },
  {
   "cell_type": "code",
   "execution_count": 4,
   "id": "6b9ab34c",
   "metadata": {},
   "outputs": [
    {
     "name": "stdout",
     "output_type": "stream",
     "text": [
      "Volkan\n",
      "Volkan\n"
     ]
    }
   ],
   "source": [
    "name = \"Erdem\"\n",
    "\n",
    "def changename(new_name):\n",
    "    global name\n",
    "    name = new_name\n",
    "    print(name)\n",
    "    \n",
    "changename(\"Volkan\")\n",
    "print(name)"
   ]
  },
  {
   "cell_type": "code",
   "execution_count": 5,
   "id": "0bc45f6c",
   "metadata": {},
   "outputs": [
    {
     "name": "stdout",
     "output_type": "stream",
     "text": [
      "hello Erdem\n",
      "global string\n"
     ]
    }
   ],
   "source": [
    "name = \"global string\"\n",
    "\n",
    "def greeting():\n",
    "    name = \"Erdem\"\n",
    "    \n",
    "    def hello():\n",
    "        print(\"hello \"+ name)\n",
    "        \n",
    "    hello()\n",
    "    \n",
    "greeting()\n",
    "print(name)"
   ]
  },
  {
   "cell_type": "code",
   "execution_count": 6,
   "id": "4169730f",
   "metadata": {},
   "outputs": [
    {
     "name": "stdout",
     "output_type": "stream",
     "text": [
      "hello Volkan\n",
      "global string\n"
     ]
    }
   ],
   "source": [
    "name = \"global string\"\n",
    "\n",
    "def greeting():\n",
    "    name = \"Erdem\"\n",
    "    \n",
    "    def hello():\n",
    "        name = \"Volkan\"\n",
    "        print(\"hello \"+ name)\n",
    "        \n",
    "    hello()\n",
    "    \n",
    "greeting()\n",
    "print(name)"
   ]
  },
  {
   "cell_type": "code",
   "execution_count": 7,
   "id": "054ffe72",
   "metadata": {},
   "outputs": [
    {
     "name": "stdout",
     "output_type": "stream",
     "text": [
      "hello global string\n"
     ]
    }
   ],
   "source": [
    "name = \"global string\"\n",
    "\n",
    "def greeting():\n",
    "    \n",
    "    \n",
    "    def hello():\n",
    "        \n",
    "        print(\"hello \"+ name)\n",
    "        \n",
    "    hello()\n",
    "    \n",
    "greeting()"
   ]
  },
  {
   "cell_type": "code",
   "execution_count": 8,
   "id": "77e14acc",
   "metadata": {},
   "outputs": [
    {
     "name": "stdout",
     "output_type": "stream",
     "text": [
      "x : 50\n",
      "changed x to 100\n",
      "50\n"
     ]
    }
   ],
   "source": [
    "x = 50\n",
    "def test(x):\n",
    "    print(f\"x : {x}\")\n",
    "    \n",
    "    x=100\n",
    "    print(f\"changed x to {x}\")\n",
    "    \n",
    "test(x)\n",
    "print(x)"
   ]
  },
  {
   "cell_type": "code",
   "execution_count": 9,
   "id": "a91234fe",
   "metadata": {},
   "outputs": [
    {
     "name": "stdout",
     "output_type": "stream",
     "text": [
      "x : 50\n",
      "changed x to 100\n",
      "100\n"
     ]
    }
   ],
   "source": [
    "x = 50\n",
    "def test():\n",
    "    global x\n",
    "    print(f\"x : {x}\")\n",
    "    \n",
    "    x=100\n",
    "    print(f\"changed x to {x}\")\n",
    "    \n",
    "test()\n",
    "print(x)"
   ]
  }
 ],
 "metadata": {
  "kernelspec": {
   "display_name": "Python 3 (ipykernel)",
   "language": "python",
   "name": "python3"
  },
  "language_info": {
   "codemirror_mode": {
    "name": "ipython",
    "version": 3
   },
   "file_extension": ".py",
   "mimetype": "text/x-python",
   "name": "python",
   "nbconvert_exporter": "python",
   "pygments_lexer": "ipython3",
   "version": "3.9.12"
  }
 },
 "nbformat": 4,
 "nbformat_minor": 5
}
