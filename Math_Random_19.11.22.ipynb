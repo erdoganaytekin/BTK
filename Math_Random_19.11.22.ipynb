{.       
 "cells": [
  {
   "cell_type": "markdown",
   "id": "fa4daeac",
   "metadata": {},
   "source": [
    "# Training"
   ]
  },
  {
   "cell_type": "code",
   "execution_count": 1,
   "id": "9f8a0569",
   "metadata": {},
   "outputs": [
    {
     "name": "stdout",
     "output_type": "stream",
     "text": [
      "720\n"
     ]
    }
   ],
   "source": [
    "def sqrt(x):\n",
    "    print('x :'+ str(x))\n",
    "\n",
    "from math import factorial,sqrt,ceil\n",
    "\n",
    "value = factorial(6)\n",
    "#value = sqrt(9)\n",
    "#value = ceil(9.8)\n",
    "\n",
    "print(value)"
   ]
  },
  {
   "cell_type": "code",
   "execution_count": 2,
   "id": "277a1c3f",
   "metadata": {},
   "outputs": [
    {
     "name": "stdout",
     "output_type": "stream",
     "text": [
      "x :16\n",
      "20\n"
     ]
    }
   ],
   "source": [
    "def sqrt(x):\n",
    "    print('x :'+ str(x))\n",
    "\n",
    "value = factorial(6)\n",
    "value = sqrt(16)\n",
    "value = ceil(19.8)\n",
    "\n",
    "print(value)"
   ]
  },
  {
   "cell_type": "code",
   "execution_count": 3,
   "id": "fbf34100",
   "metadata": {},
   "outputs": [
    {
     "name": "stdout",
     "output_type": "stream",
     "text": [
      "['taylor', 'john']\n"
     ]
    }
   ],
   "source": [
    "import random\n",
    "\n",
    "# result = dir(random)\n",
    "# result = help(random)\n",
    "\n",
    "result = random.random() # 0.0 - 1.0\n",
    "result = random.random() * 100\n",
    "result = int(random.uniform(10,100))\n",
    "result = random.randint(1,100)\n",
    "\n",
    "greeting = 'hello there'\n",
    "names = ['eddy','shelby','john','micheal','chris','taylor']\n",
    "# result = names[random.randint(0,len(names)-1)]\n",
    "\n",
    "result = random.choice(names)\n",
    "result = random.choice(greeting)\n",
    "\n",
    "liste = list(range(10))\n",
    "random.shuffle(liste)\n",
    "result = liste\n",
    "\n",
    "liste = range(100)\n",
    "result = random.sample(liste, 3)\n",
    "result = random.sample(names, 2)\n",
    "\n",
    "print(result)"
   ]
  },
  {
   "cell_type": "code",
   "execution_count": 4,
   "id": "db478d3e",
   "metadata": {},
   "outputs": [],
   "source": [
    "import random\n",
    "\n",
    "#result = dir(random)\n",
    "#result = help(random)"
   ]
  },
  {
   "cell_type": "code",
   "execution_count": 5,
   "id": "f79daa75",
   "metadata": {},
   "outputs": [
    {
     "data": {
      "text/plain": [
       "89"
      ]
     },
     "execution_count": 5,
     "metadata": {},
     "output_type": "execute_result"
    }
   ],
   "source": [
    "result = random.random() # 0.0 - 1.0\n",
    "result = random.random() * 100\n",
    "result = int(random.uniform(10,100))\n",
    "result = random.randint(1,100)\n",
    "\n",
    "\n",
    "result"
   ]
  },
  {
   "cell_type": "code",
   "execution_count": 6,
   "id": "b8ca1ef8",
   "metadata": {},
   "outputs": [
    {
     "data": {
      "text/plain": [
       "[9, 3, 7, 0, 1, 8, 5, 2, 6, 4]"
      ]
     },
     "execution_count": 6,
     "metadata": {},
     "output_type": "execute_result"
    }
   ],
   "source": [
    "greeting = 'hello there'\n",
    "names = ['eddy','shelby','john','micheal','chris','taylor']\n",
    "result = names[random.randint(0,len(names)-1)]\n",
    "\n",
    "result = random.choice(names)\n",
    "result = random.choice(greeting)\n",
    "\n",
    "liste = list(range(10))\n",
    "random.shuffle(liste)\n",
    "result = liste\n",
    "\n",
    "\n",
    "result"
   ]
  },
  {
   "cell_type": "code",
   "execution_count": 7,
   "id": "ef424057",
   "metadata": {},
   "outputs": [
    {
     "name": "stdout",
     "output_type": "stream",
     "text": [
      "['john', 'chris', 'taylor', 'micheal']\n"
     ]
    }
   ],
   "source": [
    "liste = range(100)\n",
    "result = random.sample(liste, 3)\n",
    "result = random.sample(names, 4)\n",
    "\n",
    "print(result)"
   ]
  }
 ],
 "metadata": {
  "kernelspec": {
   "display_name": "Python 3 (ipykernel)",
   "language": "python",
   "name": "python3"
  },
  "language_info": {
   "codemirror_mode": {
    "name": "ipython",
    "version": 3
   },
   "file_extension": ".py",
   "mimetype": "text/x-python",
   "name": "python",
   "nbconvert_exporter": "python",
   "pygments_lexer": "ipython3",
   "version": "3.9.12"
  }
 },
 "nbformat": 4,
 "nbformat_minor": 5
}
