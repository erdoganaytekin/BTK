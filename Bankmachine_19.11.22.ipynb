{.         
 "cells": [
  {
   "cell_type": "markdown",
   "id": "a775ad91",
   "metadata": {},
   "source": [
    "# ATM_Exercises"
   ]
  },
  {
   "cell_type": "code",
   "execution_count": 1,
   "id": "8fe99a7b",
   "metadata": {},
   "outputs": [],
   "source": [
    "Eddyaccount = {\n",
    "    \"name\" : \"Eddy\",\n",
    "    \"accountnumber\" : \"1357911\",\n",
    "    \"balance\" : 10000,\n",
    "    \"overdraft\" : 5000\n",
    "}\n",
    "\n",
    "Nuryaccount = {\n",
    "    \"name\" : \"Nury\",\n",
    "    \"accountnumber\" : \"246810\",\n",
    "    \"balance\" : 20000,\n",
    "    \"overdraft\" : 10000\n",
    "}\n",
    "\n",
    "def withdraw(account, amount):\n",
    "    print(f\"Hello {account['name']}\")\n",
    "    \n",
    "    if (account[\"balance\"] >= amount):\n",
    "        account[\"balance\"]-= amount\n",
    "        print(\"get your money.\")\n",
    "        balance_ask(account)\n",
    "    else:\n",
    "        total = account[\"balance\"] + account[\"overdraft\"]\n",
    "        \n",
    "        if (total >= amount):\n",
    "            overdraft_use = input(\"Sure to use overdraft (y/n)\")\n",
    "            \n",
    "            if overdraft_use == \"y\":\n",
    "                balance = account[\"balance\"]\n",
    "                overdraft_use_amount = amount - account[\"balance\"]\n",
    "                account[\"balance\"] = 0\n",
    "                account[\"overdraft\"] -= overdraft_use_amount\n",
    "                print(\"get your money.\")\n",
    "                balance_ask(account)\n",
    "                \n",
    "            else:\n",
    "                print(f'{account[\"accountnumber\"]} account you have {account[\"balance\"]}.')\n",
    "                \n",
    "        else: \n",
    "            print(\"Sorry insuffient balance.\")\n",
    "            balance_ask(account)\n"
   ]
  },
  {
   "cell_type": "code",
   "execution_count": 2,
   "id": "20b6401a",
   "metadata": {},
   "outputs": [
    {
     "name": "stdout",
     "output_type": "stream",
     "text": [
      "Hello Eddy\n",
      "Sure to use overdraft (y/n)y\n",
      "get your money.\n",
      "1357911 number account, you have 0 $. Overdraft limit is 4000 $.\n",
      "1357911 number account, you have 0 $. Overdraft limit is 4000 $.\n",
      "*************\n"
     ]
    }
   ],
   "source": [
    "def balance_ask(account):\n",
    "    print(f\"{account['accountnumber']} number account, you have {account['balance']} $. Overdraft limit is {account['overdraft']} $.\")\n",
    "    \n",
    "withdraw(Eddyaccount, 11000)\n",
    "balance_ask(Eddyaccount)\n",
    "print(\"*************\")"
   ]
  },
  {
   "cell_type": "code",
   "execution_count": 3,
   "id": "1dd720d5",
   "metadata": {},
   "outputs": [
    {
     "name": "stdout",
     "output_type": "stream",
     "text": [
      "Hello Eddy\n",
      "Sure to use overdraft (y/n)y\n",
      "get your money.\n",
      "1357911 number account, you have 0 $. Overdraft limit is 2000 $.\n"
     ]
    }
   ],
   "source": [
    "withdraw(Eddyaccount, 2000)"
   ]
  },
  {
   "cell_type": "code",
   "execution_count": 4,
   "id": "c4d0d905",
   "metadata": {},
   "outputs": [
    {
     "name": "stdout",
     "output_type": "stream",
     "text": [
      "Hello Eddy\n",
      "Sure to use overdraft (y/n)y\n",
      "get your money.\n",
      "1357911 number account, you have 0 $. Overdraft limit is 0 $.\n"
     ]
    }
   ],
   "source": [
    "withdraw(Eddyaccount, 2000)"
   ]
  },
  {
   "cell_type": "code",
   "execution_count": 5,
   "id": "f6f53a27",
   "metadata": {},
   "outputs": [
    {
     "name": "stdout",
     "output_type": "stream",
     "text": [
      "Hello Eddy\n",
      "Sorry insuffient balance.\n",
      "1357911 number account, you have 0 $. Overdraft limit is 0 $.\n"
     ]
    }
   ],
   "source": [
    "withdraw(Eddyaccount, 6000)"
   ]
  },
  {
   "cell_type": "code",
   "execution_count": 6,
   "id": "5a34eddc",
   "metadata": {},
   "outputs": [
    {
     "name": "stdout",
     "output_type": "stream",
     "text": [
      "Hello Nury\n",
      "get your money.\n",
      "246810 number account, you have 14000 $. Overdraft limit is 10000 $.\n"
     ]
    }
   ],
   "source": [
    "withdraw(Nuryaccount, 6000)"
   ]
  },
  {
   "cell_type": "code",
   "execution_count": 7,
   "id": "2ef1b275",
   "metadata": {},
   "outputs": [
    {
     "name": "stdout",
     "output_type": "stream",
     "text": [
      "Hello Nury\n",
      "Sure to use overdraft (y/n)y\n",
      "get your money.\n",
      "246810 number account, you have 0 $. Overdraft limit is 8000 $.\n"
     ]
    }
   ],
   "source": [
    "withdraw(Nuryaccount, 16000)"
   ]
  },
  {
   "cell_type": "code",
   "execution_count": 8,
   "id": "95edf6bd",
   "metadata": {},
   "outputs": [
    {
     "name": "stdout",
     "output_type": "stream",
     "text": [
      "Hello Nury\n",
      "Sure to use overdraft (y/n)y\n",
      "get your money.\n",
      "246810 number account, you have 0 $. Overdraft limit is 2000 $.\n"
     ]
    }
   ],
   "source": [
    "withdraw(Nuryaccount, 6000)"
   ]
  },
  {
   "cell_type": "code",
   "execution_count": 9,
   "id": "54b3caa1",
   "metadata": {},
   "outputs": [
    {
     "name": "stdout",
     "output_type": "stream",
     "text": [
      "Hello Nury\n",
      "Sorry insuffient balance.\n",
      "246810 number account, you have 0 $. Overdraft limit is 2000 $.\n"
     ]
    }
   ],
   "source": [
    "withdraw(Nuryaccount, 6000)"
   ]
  },
  {
   "cell_type": "code",
   "execution_count": 10,
   "id": "65bb5946",
   "metadata": {},
   "outputs": [
    {
     "name": "stdout",
     "output_type": "stream",
     "text": [
      "Hello Nury\n",
      "Sure to use overdraft (y/n)y\n",
      "get your money.\n",
      "246810 number account, you have 0 $. Overdraft limit is 0 $.\n"
     ]
    }
   ],
   "source": [
    "withdraw(Nuryaccount, 2000)"
   ]
  }
 ],
 "metadata": {
  "kernelspec": {
   "display_name": "Python 3 (ipykernel)",
   "language": "python",
   "name": "python3"
  },
  "language_info": {
   "codemirror_mode": {
    "name": "ipython",
    "version": 3
   },
   "file_extension": ".py",
   "mimetype": "text/x-python",
   "name": "python",
   "nbconvert_exporter": "python",
   "pygments_lexer": "ipython3",
   "version": "3.9.12"
  }
 },
 "nbformat": 4,
 "nbformat_minor": 5
}
