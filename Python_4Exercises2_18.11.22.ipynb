{
 "cells": [
  {
   "cell_type": "markdown",
   "id": "08388632",
   "metadata": {},
   "source": [
    "# 4 Exercises"
   ]
  },
  {
   "cell_type": "code",
   "execution_count": 1,
   "id": "84d6989e",
   "metadata": {},
   "outputs": [],
   "source": [
    "#  Show a word and times"
   ]
  },
  {
   "cell_type": "code",
   "execution_count": 2,
   "id": "67894216",
   "metadata": {},
   "outputs": [],
   "source": [
    "def write(word, number):\n",
    "    print(word*number)"
   ]
  },
  {
   "cell_type": "code",
   "execution_count": 3,
   "id": "4aa9bd47",
   "metadata": {},
   "outputs": [
    {
     "name": "stdout",
     "output_type": "stream",
     "text": [
      "HelloHelloHelloHelloHelloHelloHelloHelloHelloHello\n"
     ]
    }
   ],
   "source": [
    "write(\"Hello\",10)"
   ]
  },
  {
   "cell_type": "code",
   "execution_count": 4,
   "id": "a9f268c3",
   "metadata": {},
   "outputs": [
    {
     "name": "stdout",
     "output_type": "stream",
     "text": [
      "Hello\n",
      "Hello\n",
      "Hello\n",
      "Hello\n",
      "Hello\n",
      "Hello\n",
      "Hello\n",
      "Hello\n",
      "Hello\n",
      "Hello\n",
      "\n"
     ]
    }
   ],
   "source": [
    "write(\"Hello\\n\",10)"
   ]
  },
  {
   "cell_type": "code",
   "execution_count": 5,
   "id": "7eb961cb",
   "metadata": {},
   "outputs": [],
   "source": [
    "# Change unlimited parameters to list."
   ]
  },
  {
   "cell_type": "code",
   "execution_count": 6,
   "id": "26e432fc",
   "metadata": {},
   "outputs": [],
   "source": [
    "def listchange(*params):\n",
    "    listt = []\n",
    "    \n",
    "    for param in params:\n",
    "        listt.append(param)\n",
    "        \n",
    "    return listt\n",
    "\n",
    "result = listchange(10,20,30,\"Hello\")"
   ]
  },
  {
   "cell_type": "code",
   "execution_count": 7,
   "id": "64fd10fb",
   "metadata": {},
   "outputs": [
    {
     "name": "stdout",
     "output_type": "stream",
     "text": [
      "[10, 20, 30, 'Hello']\n"
     ]
    }
   ],
   "source": [
    "print(result)"
   ]
  },
  {
   "cell_type": "code",
   "execution_count": 8,
   "id": "8bf17577",
   "metadata": {},
   "outputs": [],
   "source": [
    "# Find prime numbers between addressee 2 numbers."
   ]
  },
  {
   "cell_type": "code",
   "execution_count": 9,
   "id": "56d749da",
   "metadata": {},
   "outputs": [
    {
     "name": "stdout",
     "output_type": "stream",
     "text": [
      "num1: 10\n",
      "num2: 30\n",
      "11\n",
      "13\n",
      "17\n",
      "19\n",
      "23\n",
      "29\n"
     ]
    }
   ],
   "source": [
    "def findprimenumber(num1, num2):\n",
    "    for num in range(num1,num2+1):\n",
    "        if num > 1:\n",
    "            for i in range(2,num):\n",
    "                if (num % i == 0):\n",
    "                    break\n",
    "            else: print(num)\n",
    "                \n",
    "num1 = int(input(\"num1: \"))\n",
    "num2 = int(input(\"num2: \"))\n",
    "\n",
    "findprimenumber(num1,num2)"
   ]
  },
  {
   "cell_type": "code",
   "execution_count": 10,
   "id": "cae891b5",
   "metadata": {},
   "outputs": [],
   "source": [
    "# Make a list with submultiple from addressess number."
   ]
  },
  {
   "cell_type": "code",
   "execution_count": 11,
   "id": "0dd0eec8",
   "metadata": {},
   "outputs": [
    {
     "name": "stdout",
     "output_type": "stream",
     "text": [
      "[2, 4, 5, 10]\n"
     ]
    }
   ],
   "source": [
    "def findsubmultiple(num):\n",
    "    submultiple = []\n",
    "    \n",
    "    for i in range(2,num):\n",
    "        if num % i == 0:\n",
    "            submultiple.append(i)\n",
    "    return submultiple\n",
    "\n",
    "print(findsubmultiple(20))"
   ]
  }
 ],
 "metadata": {
  "kernelspec": {
   "display_name": "Python 3 (ipykernel)",
   "language": "python",
   "name": "python3"
  },
  "language_info": {
   "codemirror_mode": {
    "name": "ipython",
    "version": 3
   },
   "file_extension": ".py",
   "mimetype": "text/x-python",
   "name": "python",
   "nbconvert_exporter": "python",
   "pygments_lexer": "ipython3",
   "version": "3.9.12"
  }
 },
 "nbformat": 4,
 "nbformat_minor": 5
}
